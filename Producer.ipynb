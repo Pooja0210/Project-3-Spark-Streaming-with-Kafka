{
 "cells": [
  {
   "cell_type": "code",
   "execution_count": null,
   "metadata": {},
   "outputs": [
    {
     "name": "stderr",
     "output_type": "stream",
     "text": [
      "--- request header ---\n",
      "GET /2/rsvps HTTP/1.1\n",
      "Upgrade: websocket\n",
      "Host: stream.meetup.com\n",
      "Origin: http://stream.meetup.com\n",
      "Sec-WebSocket-Key: jdLV8LaCMTEiu6msCx9e8Q==\n",
      "Sec-WebSocket-Version: 13\n",
      "Connection: upgrade\n",
      "\n",
      "\n",
      "-----------------------\n",
      "--- response header ---\n",
      "HTTP/1.1 101 Switching Protocols\n",
      "Date: Mon, 30 Aug 2021 12:42:42 GMT\n",
      "Connection: upgrade\n",
      "Upgrade: websocket\n",
      "Sec-WebSocket-Accept: sAN1bCDhRVFovHqwq3Zx5uN1QQ0=\n",
      "-----------------------\n"
     ]
    }
   ],
   "source": [
    "import websocket\n",
    "import json\n",
    "import time\n",
    "from kafka import KafkaProducer\n",
    "\n",
    "\n",
    "def on_message(ws, message):\n",
    "     producer.send('numtest', message)\n",
    "     producer.flush()\n",
    "\n",
    "producer = KafkaProducer(value_serializer=lambda m: json.dumps(m).encode('utf-8'),\n",
    "                         bootstrap_servers=['localhost:9092'])\n",
    "\n",
    "websocket.enableTrace(True)\n",
    "\n",
    "ws = websocket.WebSocketApp(\"wss://stream.meetup.com/2/rsvps\", on_message=on_message)\n",
    "\n",
    "while(1):\n",
    "    ws.run_forever()\n",
    "    time.sleep(10)"
   ]
  },
  {
   "cell_type": "code",
   "execution_count": null,
   "metadata": {},
   "outputs": [],
   "source": []
  }
 ],
 "metadata": {
  "kernelspec": {
   "display_name": "Python 3",
   "language": "python",
   "name": "python3"
  },
  "language_info": {
   "codemirror_mode": {
    "name": "ipython",
    "version": 3
   },
   "file_extension": ".py",
   "mimetype": "text/x-python",
   "name": "python",
   "nbconvert_exporter": "python",
   "pygments_lexer": "ipython3",
   "version": "3.7.1"
  }
 },
 "nbformat": 4,
 "nbformat_minor": 2
}
